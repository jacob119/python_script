{
 "cells": [
  {
   "cell_type": "code",
   "execution_count": 3,
   "metadata": {},
   "outputs": [],
   "source": [
    "import os\n",
    "import sys\n",
    "import time"
   ]
  },
  {
   "cell_type": "code",
   "execution_count": 5,
   "metadata": {},
   "outputs": [],
   "source": [
    "from kafka import KafkaProducer\n",
    "from json import dumps"
   ]
  },
  {
   "cell_type": "code",
   "execution_count": 7,
   "metadata": {},
   "outputs": [],
   "source": [
    "import json\n",
    "sample = {\n",
    "    \"weather\": [\n",
    "        {\n",
    "            \"id\":800,\n",
    "            \"main\": \"Clear\",\n",
    "            \"description\":\"clear sky\"\n",
    "        }\n",
    "    ]\n",
    "}"
   ]
  },
  {
   "cell_type": "code",
   "execution_count": 8,
   "metadata": {},
   "outputs": [],
   "source": [
    "in_memory_json=json.dumps(sample, indent=2)\n",
    "loaded_json=json.loads(in_memory_json)"
   ]
  },
  {
   "cell_type": "code",
   "execution_count": 9,
   "metadata": {},
   "outputs": [
    {
     "name": "stdout",
     "output_type": "stream",
     "text": [
      "{'weather': [{'id': 800, 'main': 'Clear', 'description': 'clear sky'}]}\n",
      "[{'id': 800, 'main': 'Clear', 'description': 'clear sky'}]\n",
      "{'id': 800, 'main': 'Clear', 'description': 'clear sky'}\n",
      "clear sky\n"
     ]
    }
   ],
   "source": [
    "print(loaded_json)\n",
    "\n",
    "#3. json 값 처리하기\n",
    "print(loaded_json['weather'])\n",
    "print(loaded_json['weather'][0])\n",
    "print(loaded_json['weather'][0]['description'])"
   ]
  },
  {
   "cell_type": "code",
   "execution_count": 18,
   "metadata": {},
   "outputs": [
    {
     "name": "stdout",
     "output_type": "stream",
     "text": [
      "DONE\n"
     ]
    }
   ],
   "source": [
    "from kafka import KafkaProducer \n",
    "from json import dumps \n",
    "\n",
    "\n",
    "producer=KafkaProducer(acks=0, #메시지 받은 사람이 메시지를 잘 받았는지 체크하는 옵션 (0은 그냥 보내기만 한다. 확인x)\n",
    "            compression_type='gzip', #메시지 전달할 때 압축\n",
    "            bootstrap_servers=['127.0.0.1:9092'], #전달하고자하는 카프카 브로커의 위치\n",
    "            value_serializer=lambda x: dumps(x).encode('utf-8') #직렬화 : 데이터 전송을 위해 byte단위로 바꿔주는 작업 : \n",
    "                                                               #dumps 함수이용. dump : json 값을 메모리에 올려준다. encode를 통해서 올린다.\n",
    "                                                               #x가 있으면, x를 dumps로 바꾸고 encode 한다.\n",
    "          )\n",
    "\n",
    "for i in range(10): #10개의 값을 \n",
    "    data={'name':'Dowon-'+str(i)}\n",
    "    producer.send('test-2021-09-05',value=data)\n",
    "    producer.flush() # 비우는 작업.\n",
    "\n",
    "print(\"DONE\")"
   ]
  },
  {
   "cell_type": "code",
   "execution_count": null,
   "metadata": {},
   "outputs": [],
   "source": []
  }
 ],
 "metadata": {
  "kernelspec": {
   "display_name": "Python 3",
   "language": "python",
   "name": "python3"
  },
  "language_info": {
   "codemirror_mode": {
    "name": "ipython",
    "version": 3
   },
   "file_extension": ".py",
   "mimetype": "text/x-python",
   "name": "python",
   "nbconvert_exporter": "python",
   "pygments_lexer": "ipython3",
   "version": "3.11.2"
  },
  "orig_nbformat": 4
 },
 "nbformat": 4,
 "nbformat_minor": 2
}
